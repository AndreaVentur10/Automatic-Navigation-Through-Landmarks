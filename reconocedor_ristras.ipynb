{
  "nbformat": 4,
  "nbformat_minor": 0,
  "metadata": {
    "colab": {
      "provenance": [],
      "collapsed_sections": [
        "C2xYjKKwR3RO"
      ]
    },
    "kernelspec": {
      "name": "python3",
      "display_name": "Python 3"
    },
    "language_info": {
      "name": "python"
    }
  },
  "cells": [
    {
      "cell_type": "code",
      "execution_count": null,
      "metadata": {
        "id": "-N6PbE8T3Kmx",
        "colab": {
          "base_uri": "https://localhost:8080/"
        },
        "outputId": "7e6f87d4-2b33-4f42-afa7-01a2d5d7258d"
      },
      "outputs": [
        {
          "output_type": "stream",
          "name": "stdout",
          "text": [
            "Mounted at /content/gdrive\n"
          ]
        }
      ],
      "source": [
        "from google.colab import drive\n",
        "drive.mount('/content/gdrive')"
      ]
    },
    {
      "cell_type": "code",
      "source": [
        "!ln -s /content/gdrive/My\\ Drive/TFM /TFM"
      ],
      "metadata": {
        "id": "98i5ZZKY3eub"
      },
      "execution_count": null,
      "outputs": []
    },
    {
      "cell_type": "code",
      "source": [
        "%cd /TFM\n",
        " \n",
        "\n",
        "file1 = open('labels_1304.txt', 'r')\n",
        "Lines = file1.readlines()\n",
        "print(type(Lines))\n",
        "clean = []\n",
        "dict_objs = {}\n",
        "count = 0\n",
        "for line in Lines:\n",
        "  if not line.isspace() and  not (\"cvWriteFrame\" in line) and not (\"AVG_FPS\" in line) and not (\"Loaded\" in line) and not (\"seen\" in line) and not (\"FPS:\" in line):#line != \" cvWriteFrame\":\n",
        "    if \"Object\" in line:\n",
        "      count += 1      \n",
        "    clean.append(str(count)+ \" \"+line)\n",
        "\n",
        "for i in (clean[8:11]):\n",
        "  print(i)\n",
        "\n",
        "with open('/TFM/clean.txt', 'w') as f:\n",
        "  for line in clean[8:]:\n",
        "    if not \"Objects:\" in line:\n",
        "      f.writelines(line)\n",
        "\n",
        "# Strips the newline character\n",
        "\n",
        "      "
      ],
      "metadata": {
        "id": "vycy2hpB3g8B",
        "colab": {
          "base_uri": "https://localhost:8080/"
        },
        "outputId": "fa92c525-2290-41a3-fa03-0eacf5be2892"
      },
      "execution_count": null,
      "outputs": [
        {
          "output_type": "stream",
          "name": "stdout",
          "text": [
            "/content/gdrive/My Drive/TFM\n",
            "<class 'list'>\n",
            "1 Objects:\n",
            "\n",
            "1 vase: 98.29%    (left_x: 73   top_y:  242   width:   30   height:  54)\n",
            "\n",
            "2 Objects:\n",
            "\n"
          ]
        }
      ]
    },
    {
      "cell_type": "code",
      "source": [
        "\n",
        "objects_pos = []\n",
        "for line in clean[8:]:#\n",
        "    if not (\"Objects:\" in line):\n",
        "      all = line.split(\" \")\n",
        "      #print(all)\n",
        "      if all[7] == '(left_x:':  \n",
        "        print((int(all[0]), all[1][:-1], int(all[8]), int(all[13]), int(all[19]), int(all[24][:-2])))\n",
        "        if int(all[0]) in dict_objs:\n",
        "          dict_objs[int(all[0])].append((all[1][:-1], int(all[8]), int(all[13]), int(all[19]), int(all[24][:-2])))\n",
        "        else:\n",
        "          dict_objs[int(all[0])]= [(all[1][:-1], int(all[8]), int(all[13]), int(all[19]), int(all[24][:-2]))]\n",
        "        objects_pos.append((int(all[0]), all[1][:-1], int(all[8]), int(all[13]), int(all[19]), int(all[24][:-2])))\n",
        "        \n",
        "      \n",
        "      else:\n",
        "        print((int(all[0]), all[1][:-1], int(all[7]), int(all[12]), int(all[18]), int(all[23][:-2])))\n",
        "        if int(all[0]) in dict_objs:\n",
        "           dict_objs[int(all[0])].append((all[1][:-1], int(all[7]), int(all[12]), int(all[18]), int(all[23][:-2])))\n",
        "        else:\n",
        "           dict_objs[int(all[0])] = [(all[1][:-1], int(all[7]), int(all[12]), int(all[18]), int(all[23][:-2]))]\n",
        "           \n",
        "        objects_pos.append((int(all[0]), all[1][:-1], int(all[7]), int(all[12]), int(all[18]), int(all[23][:-2])))\n",
        "       \n",
        "\n",
        "      "
      ],
      "metadata": {
        "id": "xLZcB7C03nbn"
      },
      "execution_count": null,
      "outputs": []
    },
    {
      "cell_type": "code",
      "source": [
        "dict_pos = {(0,0): \"arriba a la izquierda\", (1,0): \"arriba en el centro\", (2,0): \"arriba a la derecha\",\n",
        "            (0,1): \"a la izquierda\", (1,1): \"en el centro\", (2,1): \"a la derecha\",\n",
        "            (0,2): \"abajo a la izquierda\", (1,2): \"abajo en el centro\", (2,2): \"abajo a la derecha\"}\n",
        "\n",
        "abrev_pos = {(0,0): \"ARI\", (1,0): \"ARC\", (2,0): \"ARD\",\n",
        "            (0,1): \"I\", (1,1): \"C\", (2,1): \"D\",\n",
        "            (0,2): \"ABI\", (1,2): \"ABC\", (2,2): \"ABD\"}"
      ],
      "metadata": {
        "id": "5XSYI6P5RxqA"
      },
      "execution_count": null,
      "outputs": []
    },
    {
      "cell_type": "code",
      "source": [
        "dict_nodos = {\"vasija a la izquierda\": \"Landmark 0\", \"taza a la derecha\": \"Landmark 1\", \"libro abajo a la izquierda\": \"Landmark 2\",\n",
        "              \"naranja abajo a la izquierda\": \"Landmark 5\", \"botella a la izquierda\": \"Landmark 3\", \"paraguas a la derecha\": \"Landmark 4\",\n",
        "              \"cepillo dental en el centro\": \"Landmark 6\", \"portatil en el centro\": \"Landmark 7\", \"taza en el centro\": \"Landmark 8\"}\n",
        "\n",
        "abrev_nodos = {\"VI\": \"Landmark 0\", \"VABI\": \"Landmark 0\",\n",
        "              \"TD\": \"Landmark 1\", \"TABD\": \"Landmark 1\",\n",
        "              \"LABI\": \"Landmark 2\",\n",
        "              \"NI\": \"Landmark 5\", \"NABI\": \"Landmark 5\",\n",
        "              \"BI\": \"Landmark 3\", \"BABI\": \"Landmark 3\",\n",
        "              \"PD\": \"Landmark 4\",\n",
        "              \"CC\": \"Landmark 6\", \"CCCC\": \"Landmark 6\", \"CCCCCC\": \"Landmark 6\",\n",
        "              \"OC\": \"Landmark 7\",  \"OI\": \"Landmark 7\", \"RCOC\": \"Landmark 7\", \"RDOC\": \"Landmark 7\", \"RCOI\": \"Landmark 7\",\n",
        "              \"BCTC\": \"Landmark 8\", \"BITC\": \"Landmark 8\", \"BITABC\": \"Landmark 8\", \"TCBC\": \"Landmark 8\", \"TCBI\": \"Landmark 8\", \"TABCBI\": \"Landmark 8\"}   \n",
        "\n",
        "dict_nombres = {\"vase\": \"vasija\", \"cup\": \"taza\", \"book\": \"libro\", \"orange\": \"naranja\", \"bottle\": \"botella\", \"umbrella\": \"paraguas\",\n",
        "                \"toothbrush\": \"cepillo dental\", \"lapto\": \"portatil\", \"mouse\": \"raton\"}\n",
        "\n",
        "abrev_nombres = {\"vase\": \"V\", \"cup\": \"T\", \"book\": \"L\", \"orange\": \"N\", \"bottle\": \"B\", \"umbrella\": \"P\",\n",
        "                \"toothbrush\": \"C\", \"lapto\": \"O\", \"mouse\": \"R\"}"
      ],
      "metadata": {
        "id": "AFE4T4Jo4BoR"
      },
      "execution_count": null,
      "outputs": []
    },
    {
      "cell_type": "markdown",
      "source": [
        "## texto"
      ],
      "metadata": {
        "id": "C2xYjKKwR3RO"
      }
    },
    {
      "cell_type": "code",
      "source": [
        "\n",
        "tercio = int(416/3)\n",
        "\n",
        "def find_spot(x, y, w, h):\n",
        "  l = int((x - w / 2))\n",
        "  r = int((x + w / 2))\n",
        "  t = int((y - h / 2))\n",
        "  b = int((y + h / 2))\n",
        "  (cx, cy) = (int((r-l)/2)+l,int((b-t)/2)+t)\n",
        "\n",
        "  for x, y in dict_pos:\n",
        "    if cx > tercio*x and cx <= tercio*(x+1) and cy > tercio*y and cy <= tercio*(y+1):\n",
        "      return dict_pos.get((x,y))\n",
        "    \n",
        "    #print(dict_pos.get(x, y))\n",
        "print(find_spot(118, 245, 39, 215) )"
      ],
      "metadata": {
        "id": "HOyNMIjK3xp5"
      },
      "execution_count": null,
      "outputs": []
    },
    {
      "cell_type": "code",
      "source": [
        "import numpy as np\n",
        "import cv2\n",
        "%cd /content/gdrive/My Drive/mask_test_videos\n",
        "cap = cv2.VideoCapture(\"result_1304.avi\")\n",
        "\n",
        "# Define the codec and create VideoWriter object\n",
        "out = cv2.VideoWriter('ristras_puntos_1304.avi', cv2.VideoWriter_fourcc('M','J','P','G'), 29.0, (1920,1080))\n",
        "count = 0\n",
        "\n",
        "while(cap.isOpened()):\n",
        "    ret, frame = cap.read()\n",
        "    if ret==True:\n",
        "        count +=1     \n",
        "        alto, ancho, _ = frame.shape        \n",
        "        ntercio = int(ancho/3)\n",
        "        ltercio = int(alto/3)\n",
        "        if count in dict_objs:\n",
        "          \n",
        "          obj = dict_objs.get(count)#[0]\n",
        "          if len(obj)>1:\n",
        "            pos = \"\"\n",
        "            nodo = \"\"\n",
        "            dy = 0\n",
        "            cy = 0\n",
        "            for o in obj:\n",
        "              (x,y,w,h) = (o[1:])\n",
        "              pos = dict_nombres.get(o[0])+\" \"+ find_spot(x,y,w,h)\n",
        "              if pos in dict_nodos:\n",
        "                nodo = dict_nodos.get(pos) \n",
        "                frame = cv2.putText(frame, nodo, (10, 200+(dy*40)), cv2.FONT_HERSHEY_DUPLEX, 1.5, (0, 0, 255), 2)\n",
        "              dy += 1\n",
        "              frame = cv2.putText(frame, pos, (10, 100+(cy*40)), cv2.FONT_HERSHEY_DUPLEX, 1.5, (255, 0, 0), 2)\n",
        "              cy += 1\n",
        "              x = int((x/416)*ancho)\n",
        "              y = int((y/416)*alto)\n",
        "              w = int((w/416)*ancho)\n",
        "              h = int((h/416)*alto)\n",
        "              print(x, y, w, h)\n",
        "              ## dibujar centro de masa de objeto ## \n",
        "              #l = int((x - w / 2))\n",
        "              #r = int((x + w / 2))\n",
        "              #t = int((y - h / 2))\n",
        "              #b = int((y + h / 2))  \n",
        "              #(int((x2-x1)/2)+x1,int((y2-y1)/2)+y1)  (int((r-l)/2)+l,int((b-t)/2)+t)\n",
        "\n",
        "              #frame = cv2.circle(frame, (int(w/2)+x, int(h/2)+y), radius=1, color=(255, 0, 255), thickness=5)\n",
        "              frame = cv2.circle(frame, (x, y), radius=1, color=(255, 0, 255), thickness=5)\n",
        "          \n",
        "          else:\n",
        "            \n",
        "            (x,y,w,h) = obj[0][1:]\n",
        "            pos = \"\"+ dict_nombres.get(obj[0][0])+ \" \"+find_spot(x,y,w,h)\n",
        "            if pos in dict_nodos:\n",
        "              nodo = dict_nodos.get(pos)\n",
        "              frame = cv2.putText(frame, nodo, (10, 200), cv2.FONT_HERSHEY_DUPLEX, 1.5, (0, 0, 255), 2)\n",
        "            frame = cv2.putText(frame, pos, (10, 100), cv2.FONT_HERSHEY_DUPLEX, 1.5, (255, 0, 0), 2)\n",
        "            ## puntos\n",
        "            x = int((x/416)*ancho)\n",
        "            y = int((y/416)*alto)\n",
        "            frame = cv2.circle(frame, (x, y), radius=1, color=(255, 0, 255), thickness=5)\n",
        "\n",
        "        ## lines and dots ##\n",
        "        frame = cv2.line(frame, (ntercio, 0), (ntercio, alto), (0, 255, 0), thickness=5)\n",
        "        frame = cv2.line(frame, (ntercio*2, 0), (ntercio*2, alto), (0, 255, 0), thickness=5)\n",
        "        frame = cv2.line(frame, (0, ltercio), (ancho, ltercio), (0, 255, 0), thickness=5)\n",
        "        frame = cv2.line(frame, (0, ltercio*2), (ancho, ltercio*2), (0, 255, 0), thickness=5)\n",
        "        # write the flipped frame\n",
        "        out.write(frame)\n",
        "\n",
        "        #cv2.imshow('frame',frame)\n",
        "        if cv2.waitKey(1) & 0xFF == ord('q'):\n",
        "            break\n",
        "    else:\n",
        "        break\n",
        "\n",
        "# Release everything if job is finished\n",
        "cap.release()\n",
        "out.release()\n",
        "cv2.destroyAllWindows()"
      ],
      "metadata": {
        "id": "dptoz5Sk4Ci1"
      },
      "execution_count": null,
      "outputs": []
    },
    {
      "cell_type": "markdown",
      "source": [
        "## ristras abreviaturas"
      ],
      "metadata": {
        "id": "UmsebC0BR9nN"
      }
    },
    {
      "cell_type": "code",
      "source": [
        "\n",
        "tercio = int(416/3)\n",
        "\n",
        "def find_spot_abrev(x, y, w, h):\n",
        "  l = int((x - w / 2))\n",
        "  r = int((x + w / 2))\n",
        "  t = int((y - h / 2))\n",
        "  b = int((y + h / 2))\n",
        "  (cx, cy) = (int((r-l)/2)+l,int((b-t)/2)+t)\n",
        "\n",
        "  for x, y in abrev_pos:\n",
        "    if cx > tercio*x and cx <= tercio*(x+1) and cy > tercio*y and cy <= tercio*(y+1):\n",
        "      return abrev_pos.get((x,y))\n",
        "    \n",
        "    #print(dict_pos.get(x, y))"
      ],
      "metadata": {
        "id": "CRcdgwL2K7M_"
      },
      "execution_count": null,
      "outputs": []
    },
    {
      "cell_type": "code",
      "source": [
        "from difflib import SequenceMatcher\n",
        "\n",
        "def similar(a, b):\n",
        "    return SequenceMatcher(None, a, b).ratio()"
      ],
      "metadata": {
        "id": "R2peVJ6jTXhS"
      },
      "execution_count": null,
      "outputs": []
    },
    {
      "cell_type": "code",
      "source": [
        "from time import strftime\n",
        "from scipy.spatial.distance import hamming\n",
        "\n",
        "\n",
        "#calcular la distancia de Hamming entre las dos matrices\n",
        "def distancia_H(x):\n",
        "  sim = 0\n",
        "  arr = []\n",
        "  aux1 = \"\"\n",
        "  for abrev in abrev_nodos:\n",
        "    arr.append(similar(x,abrev))\n",
        "  indexs = list(np.where(arr == np.max(arr))[0])\n",
        "\n",
        "  dist = 10\n",
        "  lm = \"ERROR\"\n",
        "  i2 = 0\n",
        "  for i in indexs:\n",
        "    lm2 = list(abrev_nodos.items())[i][0]\n",
        "    dh = hamming(x, lm2)\n",
        "    if dh < dist:\n",
        "      dist = dh\n",
        "      lm = lm2 \n",
        "      i2= i\n",
        "  #print(arr)\n",
        "  return list(abrev_nodos.items())[i2][1]\n",
        "\n",
        "print(distancia_H( \"BABITABI\")) \n",
        "print(distancia_H( \"RIOI\"))\n",
        "\n"
      ],
      "metadata": {
        "id": "WqtKPVZdCnVw"
      },
      "execution_count": null,
      "outputs": []
    },
    {
      "cell_type": "code",
      "source": [
        "x = [0,1,2,0]\n",
        "indexs = list(np.where(x == np.min(x))[0])\n",
        "for i in indexs:\n",
        "  print(list(abrev_nodos.items())[i][0])\n",
        "\n"
      ],
      "metadata": {
        "colab": {
          "base_uri": "https://localhost:8080/"
        },
        "id": "cviH9otMXupQ",
        "outputId": "45c5e583-805a-4033-ad65-07c8e5341a42"
      },
      "execution_count": null,
      "outputs": [
        {
          "output_type": "stream",
          "name": "stdout",
          "text": [
            "VI\n",
            "TABD\n"
          ]
        }
      ]
    },
    {
      "cell_type": "code",
      "source": [
        "import numpy as np\n",
        "import cv2\n",
        "%cd /content/gdrive/My Drive/mask_test_videos\n",
        "cap = cv2.VideoCapture(\"result_1304.avi\")\n",
        "\n",
        "# Define the codec and create VideoWriter object\n",
        "out = cv2.VideoWriter('ristras_ABREV_HAMMING_1304.avi', cv2.VideoWriter_fourcc('M','J','P','G'), 29.0, (1920,1080))\n",
        "count = 0\n",
        "\n",
        "while(cap.isOpened()):\n",
        "    ret, frame = cap.read()\n",
        "    if ret==True:\n",
        "        count +=1     \n",
        "        alto, ancho, _ = frame.shape        \n",
        "        ntercio = int(ancho/3)\n",
        "        ltercio = int(alto/3)\n",
        "        if count in dict_objs:\n",
        "          \n",
        "          obj = dict_objs.get(count)#[0]\n",
        "          if len(obj)>1:\n",
        "            pos = \"\"\n",
        "            nodo = \"\"\n",
        "            dy = 0\n",
        "            cy = 0\n",
        "            for o in obj:\n",
        "              (x,y,w,h) = (o[1:])\n",
        "              pos = abrev_nombres.get(o[0])+ find_spot_abrev(x,y,w,h)\n",
        "              nodo = nodo+ pos\n",
        "              #if pos in abrev_nodos:\n",
        "               # nodo = abrev_nodos.get(pos) \n",
        "               # frame = cv2.putText(frame, nodo, (10, 200+(dy*40)), cv2.FONT_HERSHEY_DUPLEX, 1.5, (0, 0, 255), 2)\n",
        "              #else:\n",
        "               # nodo = distancia_H(pos)\n",
        "               # frame = cv2.putText(frame, nodo, (10, 200+(dy*40)), cv2.FONT_HERSHEY_DUPLEX, 1.5, (0, 0, 255), 2)\n",
        "              dy += 1\n",
        "              #frame = cv2.putText(frame, pos, (10, 100+(cy*40)), cv2.FONT_HERSHEY_DUPLEX, 1.5, (255, 0, 0), 2)\n",
        "              cy += 1\n",
        "              x = int((x/416)*ancho)\n",
        "              y = int((y/416)*alto)\n",
        "              w = int((w/416)*ancho)\n",
        "              h = int((h/416)*alto)\n",
        "              #print(x, y, w, h)\n",
        "              frame = cv2.circle(frame, (x, y), radius=1, color=(255, 0, 255), thickness=5)\n",
        "            #NUEVO  \n",
        "            print(\"cadena de objeto - posicion:\")\n",
        "            print(nodo)\n",
        "            if nodo in abrev_nodos:\n",
        "              nodo = abrev_nodos.get(nodo) \n",
        "              frame = cv2.putText(frame, nodo, (10, 200), cv2.FONT_HERSHEY_DUPLEX, 1.5, (0, 0, 255), 2)\n",
        "              #print(\"landmark:\")\n",
        "              #print(nodo)\n",
        "            else:\n",
        "              nodo = distancia_H(nodo)\n",
        "              frame = cv2.putText(frame, nodo, (10, 200), cv2.FONT_HERSHEY_DUPLEX, 1.5, (0, 0, 255), 2)\n",
        "            #frame = cv2.putText(frame, nodo, (10, 240), cv2.FONT_HERSHEY_DUPLEX, 1.5, (0, 0, 255), 2)\n",
        "          else:\n",
        "            \n",
        "            (x,y,w,h) = obj[0][1:]\n",
        "            pos = \"\"+ abrev_nombres.get(obj[0][0])+find_spot_abrev(x,y,w,h)\n",
        "            if pos in abrev_nodos:\n",
        "              nodo = abrev_nodos.get(pos)\n",
        "              frame = cv2.putText(frame, nodo, (10, 200), cv2.FONT_HERSHEY_DUPLEX, 1.5, (0, 0, 255), 2)\n",
        "            else:\n",
        "              nodo = distancia_H(pos)\n",
        "              frame = cv2.putText(frame, nodo, (10, 200), cv2.FONT_HERSHEY_DUPLEX, 1.5, (0, 0, 255), 2)\n",
        "            #frame = cv2.putText(frame, pos, (10, 100), cv2.FONT_HERSHEY_DUPLEX, 1.5, (255, 0, 0), 2)\n",
        "            ## puntos\n",
        "            x = int((x/416)*ancho)\n",
        "            y = int((y/416)*alto)\n",
        "            frame = cv2.circle(frame, (x, y), radius=1, color=(255, 0, 255), thickness=5)\n",
        "\n",
        "        ## lines and dots ##\n",
        "        frame = cv2.line(frame, (ntercio, 0), (ntercio, alto), (0, 255, 0), thickness=5)\n",
        "        frame = cv2.line(frame, (ntercio*2, 0), (ntercio*2, alto), (0, 255, 0), thickness=5)\n",
        "        frame = cv2.line(frame, (0, ltercio), (ancho, ltercio), (0, 255, 0), thickness=5)\n",
        "        frame = cv2.line(frame, (0, ltercio*2), (ancho, ltercio*2), (0, 255, 0), thickness=5)\n",
        "        # write the flipped frame\n",
        "        out.write(frame)\n",
        "\n",
        "        #cv2.imshow('frame',frame)\n",
        "        if cv2.waitKey(1) & 0xFF == ord('q'):\n",
        "            break\n",
        "    else:\n",
        "        break\n",
        "\n",
        "# Release everything if job is finished\n",
        "cap.release()\n",
        "out.release()\n",
        "cv2.destroyAllWindows()"
      ],
      "metadata": {
        "id": "pv-NnCw2SMIL"
      },
      "execution_count": null,
      "outputs": []
    },
    {
      "cell_type": "code",
      "source": [
        "secs = {(0, 145): \"Landmark 0\", (261, 348): \"Landmark 1\", (435, 580): \"Landmark 2\", (725, 899): \"Landmark 5\", (1102, 1218): \"Landmark 3\", (1334, 1392): \"Landmark 4\",\n",
        "        (1508, 1624): \"Landmark 6\", (1856, 2059): \"Landmark 7\", (2349, 10000): \"Landmark 8\"}\n",
        "\n",
        "print(list(secs.items())[0][1])"
      ],
      "metadata": {
        "colab": {
          "base_uri": "https://localhost:8080/"
        },
        "id": "QM_NLxePNdrN",
        "outputId": "266bc7c1-bd7a-4fd6-aee1-b80405acc20a"
      },
      "execution_count": null,
      "outputs": [
        {
          "output_type": "stream",
          "name": "stdout",
          "text": [
            "Landmark 0\n"
          ]
        }
      ]
    },
    {
      "cell_type": "code",
      "source": [
        "import numpy as np\n",
        "import cv2\n",
        "%cd /content/gdrive/My Drive/mask_test_videos\n",
        "cap = cv2.VideoCapture(\"result_1304.avi\")\n",
        "\n",
        "secs = {(0, 145): \"Landmark 0\", (261, 348): \"Landmark 1\", (435, 580): \"Landmark 2\", (725, 899): \"Landmark 5\", (1102, 1218): \"Landmark 3\", (1334, 1392): \"Landmark 4\",\n",
        "        (1508, 1624): \"Landmark 6\", (1856, 2059): \"Landmark 7\", (2349, 2415): \"Landmark 8\"}\n",
        "table = []\n",
        "\n",
        "resultados = []\n",
        "count = 0\n",
        "l = 0 # contador set secs\n",
        "(first, last) = list(secs.items())[l][0]\n",
        "Land = list(secs.items())[l][1]\n",
        "count_P = 0\n",
        "count_L = 0\n",
        "while(cap.isOpened()):\n",
        "    ret, frame = cap.read()\n",
        "    if ret==True:\n",
        "      count += 1   \n",
        "      if count>last:\n",
        "        l+=1\n",
        "        (first, last) = list(secs.items())[l][0]\n",
        "        Land = list(secs.items())[l][1]\n",
        "        print(count_P, count_L, (count_P/ count_L)*100)\n",
        "        table.append([count_P, count_L, (count_P/ count_L)*100])\n",
        "        count_P = 0\n",
        "        count_L = 0  \n",
        "\n",
        "      elif count>= first:\n",
        "        alto, ancho, _ = frame.shape        \n",
        "        ntercio = int(ancho/3)\n",
        "        ltercio = int(alto/3)\n",
        "        count_L += 1\n",
        "        if count in dict_objs:  \n",
        "          obj = dict_objs.get(count)#[0]\n",
        "          if len(obj)>1:\n",
        "            pos = \"\"\n",
        "            nodo = \"\"\n",
        "            dy = 0\n",
        "            cy = 0\n",
        "            for o in obj:\n",
        "              (x,y,w,h) = (o[1:])\n",
        "              pos = abrev_nombres.get(o[0])+ find_spot_abrev(x,y,w,h)\n",
        "              nodo = nodo+ pos\n",
        "            ############### NUEVO  HAMMING\n",
        "            if nodo in abrev_nodos:\n",
        "              nodo = abrev_nodos.get(nodo)\n",
        "            else: \n",
        "              nodo = distancia_H(nodo)\n",
        "              print(\"ATENTO\")\n",
        "          else:\n",
        "            \n",
        "            (x,y,w,h) = obj[0][1:]\n",
        "            pos = \"\"+ abrev_nombres.get(obj[0][0])+find_spot_abrev(x,y,w,h)\n",
        "            if pos in abrev_nodos:\n",
        "              nodo = abrev_nodos.get(pos)\n",
        "            else: \n",
        "              nodo = distancia_H(nodo)\n",
        "              print(\"ATENTO\")\n",
        "          \n",
        "          resultados.append([nodo, Land])\n",
        "          if nodo == Land:\n",
        "            count_P +=1\n",
        "\n",
        "        if cv2.waitKey(1) & 0xFF == ord('q'):\n",
        "            break\n",
        "\n",
        "    else:\n",
        "        break\n",
        "\n",
        "# Release everything if job is finished\n",
        "cap.release()\n",
        "cv2.destroyAllWindows()\n",
        "\n",
        "print(count_P, count_L, (count_P/ count_L)*100)\n",
        "table.append([count_P, count_L, (count_P/ count_L)*100])"
      ],
      "metadata": {
        "id": "eHXeg1NLHx52"
      },
      "execution_count": null,
      "outputs": []
    },
    {
      "cell_type": "code",
      "source": [
        "import matplotlib.pyplot as plt\n",
        "\n",
        "fig, ax =plt.subplots(1,1)\n",
        "\n",
        "column_labels=[\"Aciertos\", \"Muestras\", \"Accuracy\"]\n",
        "ax.axis('tight')\n",
        "ax.axis('off')\n",
        "ax.table(cellText=table,colLabels=column_labels,loc=\"center\")\n",
        "\n",
        "plt.show()\n",
        "acc = 0\n",
        "for fila in table:\n",
        "  acc += fila[2]\n",
        "acc/len(table)"
      ],
      "metadata": {
        "colab": {
          "base_uri": "https://localhost:8080/",
          "height": 265
        },
        "id": "tjhCU6G0cijl",
        "outputId": "e63c0430-a9b2-4186-b2ed-7d4a2c68f476"
      },
      "execution_count": null,
      "outputs": [
        {
          "output_type": "display_data",
          "data": {
            "text/plain": [
              "<Figure size 432x288 with 1 Axes>"
            ],
            "image/png": "[encoded data removed]"
          },
          "metadata": {
            "needs_background": "light"
          }
        },
        {
          "output_type": "execute_result",
          "data": {
            "text/plain": [
              "84.99411851062378"
            ]
          },
          "metadata": {},
          "execution_count": 55
        }
      ]
    },
    {
      "cell_type": "code",
      "source": [
        "import matplotlib.pyplot as plt\n",
        "\n",
        "fig, ax =plt.subplots(1,1)\n",
        "\n",
        "column_labels=[\"Aciertos\", \"Muestras\", \"Accuracy\"]\n",
        "ax.axis('tight')\n",
        "ax.axis('off')\n",
        "ax.table(cellText=table,colLabels=column_labels,loc=\"center\")\n",
        "\n",
        "plt.show()\n",
        "acc = 0\n",
        "for fila in table:\n",
        "  acc += fila[2]\n",
        "acc/len(table)"
      ],
      "metadata": {
        "colab": {
          "base_uri": "https://localhost:8080/",
          "height": 265
        },
        "id": "kSOvwsEUQJ0D",
        "outputId": "f24c3bc5-85d2-41a3-a636-4f3ded3cb416"
      },
      "execution_count": null,
      "outputs": [
        {
          "output_type": "display_data",
          "data": {
            "text/plain": [
              "<Figure size 432x288 with 1 Axes>"
            ],
            "image/png": "[encoded data removed]"
          },
          "metadata": {
            "needs_background": "light"
          }
        },
        {
          "output_type": "execute_result",
          "data": {
            "text/plain": [
              "80.81376183489934"
            ]
          },
          "metadata": {},
          "execution_count": 16
        }
      ]
    },
    {
      "cell_type": "code",
      "source": [
        "import numpy as np\n",
        "import cv2\n",
        "\n",
        "%cd /content/gdrive/My Drive/mask_test_videos\n",
        "cap = cv2.VideoCapture(\"result_1304.avi\")\n",
        "fps = (cap.get(cv2.CAP_PROP_FPS))\n",
        "\n",
        "total = (cap.get(cv2.CAP_PROP_FRAME_COUNT))\n",
        "print(fps, total)"
      ],
      "metadata": {
        "colab": {
          "base_uri": "https://localhost:8080/"
        },
        "id": "pPG_Q74OjDnD",
        "outputId": "21aaf6cc-5e0d-488b-e645-bf5d805d0079"
      },
      "execution_count": null,
      "outputs": [
        {
          "output_type": "stream",
          "name": "stdout",
          "text": [
            "/content/gdrive/My Drive/mask_test_videos\n",
            "29.0 2414.0\n"
          ]
        }
      ]
    },
    {
      "cell_type": "code",
      "source": [
        "resultados"
      ],
      "metadata": {
        "id": "uLcXJw_IoGLs"
      },
      "execution_count": null,
      "outputs": []
    },
    {
      "cell_type": "code",
      "source": [
        "for (first, last) in secs:\n",
        "  num = last-first+1\n",
        "  cnt = 0\n",
        "  print(num)\n",
        "\n",
        "2414-2349+1"
      ],
      "metadata": {
        "colab": {
          "base_uri": "https://localhost:8080/"
        },
        "id": "-KnK1X3haBnf",
        "outputId": "a0ed1b6f-1207-4d57-e236-951e114369ec"
      },
      "execution_count": null,
      "outputs": [
        {
          "output_type": "stream",
          "name": "stdout",
          "text": [
            "146\n",
            "88\n",
            "146\n",
            "175\n",
            "117\n",
            "59\n",
            "117\n",
            "204\n",
            "7652\n"
          ]
        },
        {
          "output_type": "execute_result",
          "data": {
            "text/plain": [
              "66"
            ]
          },
          "metadata": {},
          "execution_count": 102
        }
      ]
    },
    {
      "cell_type": "code",
      "source": [
        "v len(resultados)\n",
        "sum(iter)"
      ],
      "metadata": {
        "colab": {
          "base_uri": "https://localhost:8080/"
        },
        "id": "i_FO0Z7mh8Jt",
        "outputId": "9c0c9c0f-4518-4e90-9ac2-ef078be86358"
      },
      "execution_count": null,
      "outputs": [
        {
          "output_type": "execute_result",
          "data": {
            "text/plain": [
              "1118"
            ]
          },
          "metadata": {},
          "execution_count": 107
        }
      ]
    }
  ]
}