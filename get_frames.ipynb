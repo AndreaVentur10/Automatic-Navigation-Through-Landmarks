{
  "nbformat": 4,
  "nbformat_minor": 0,
  "metadata": {
    "colab": {
      "provenance": [],
      "collapsed_sections": []
    },
    "kernelspec": {
      "name": "python3",
      "display_name": "Python 3"
    },
    "language_info": {
      "name": "python"
    }
  },
  "cells": [
    {
      "cell_type": "code",
      "source": [
        "from google.colab import drive\n",
        "drive.mount('/content/gdrive')"
      ],
      "metadata": {
        "colab": {
          "base_uri": "https://localhost:8080/"
        },
        "id": "bLAmRbHa0eIa",
        "outputId": "23893232-2185-4fe3-89a4-a58789299996"
      },
      "execution_count": null,
      "outputs": [
        {
          "output_type": "stream",
          "name": "stdout",
          "text": [
            "Drive already mounted at /content/gdrive; to attempt to forcibly remount, call drive.mount(\"/content/gdrive\", force_remount=True).\n"
          ]
        }
      ]
    },
    {
      "cell_type": "code",
      "source": [
        "!ln -s /content/gdrive/My\\ Drive/TFM /TFM"
      ],
      "metadata": {
        "id": "fnXQNbd-yb7R"
      },
      "execution_count": null,
      "outputs": []
    },
    {
      "cell_type": "code",
      "execution_count": null,
      "metadata": {
        "colab": {
          "base_uri": "https://localhost:8080/"
        },
        "id": "HSJFI04h0VJ9",
        "outputId": "9a5c929d-a6b6-42d2-dd8f-6f2664eeffa3"
      },
      "outputs": [
        {
          "output_type": "stream",
          "name": "stdout",
          "text": [
            "----------nodo8----------\n",
            "numero total de frames: 326\n",
            "[  0   2   5   8  10  13  16  19  21  24  27  30  32  35  38  40  43  46\n",
            "  49  51  54  57  60  62  65  68  71  73  76  79  81  84  87  90  92  95\n",
            "  98 101 103 106 109 111 114 117 120 122 125 128 131 133 136 139 142 144\n",
            " 147 150 152 155 158 161 163 166 169 172 174 177 180 182 185 188 191 193\n",
            " 196 199 202 204 207 210 213 215 218 221 223 226 229 232 234 237 240 243\n",
            " 245 248 251 253 256 259 262 264 267 270 273 275 278 281 284 286 289 292\n",
            " 294 297 300 303 305 308 311 314 316 319 322 325] 120\n",
            "número final de imágenes de Nodo: 120 \n"
          ]
        }
      ],
      "source": [
        "import cv2\n",
        "import numpy as np\n",
        "\n",
        "# define la ruta de los vídeos\n",
        "#file = '/TFM/video/'\n",
        "filep = '/TFM/nodos/'\n",
        "format = '.MOV'\n",
        "\n",
        "# nombres de los objetos\n",
        "# objects = [ \"orange\" ] #\"scissors\", \"bottle_cup\", \"laptop_mouse\", \"thoothbrush\", \"cup\", \"wineglass_bowl\"\n",
        "objects = [ \"nodo8\" ] #\"nodo0\", \"nodo1\", \"nodo2\", \"nodo3\", \"nodo4\", \"nodo5\", \"nodo6\", \"nodo7\", \"nodo8\"\n",
        "\n",
        "# para cada vídeo de un objeto:\n",
        "for obj in objects:\n",
        "  video_path = filep + obj + format\n",
        "  # capture the video\n",
        "  cap = cv2.VideoCapture(video_path)\n",
        "\n",
        "  #----------AJUSTE DE FRAMES----------\n",
        "  # conteo del número total de frames en el video\n",
        "  print(\"----------\" + obj + \"----------\")\n",
        "  total = int(cap.get(cv2.CAP_PROP_FRAME_COUNT))\n",
        "  print('numero total de frames: %d' % total)\n",
        "  # conteo del número de frames por segundo en el vídeo\n",
        "  fps = int(cap.get(cv2.CAP_PROP_FPS))\n",
        "  #print('numero frames/sec: %d' % fps)\n",
        "  # calculo el número de frames que debo tomar del número total de frames\n",
        "  # divido el total de frames por los frames por segundo \n",
        "  new_fps = int(total/90)\n",
        "  secs = int(total / fps)\n",
        "  #print('numero nuevo de frames/sec: %d' % new_fps)\n",
        "  iter = np.linspace(0,total-1, 120, dtype = int)\n",
        "  print(iter, len(iter))\n",
        "  iter = np.unique(iter)\n",
        "  print(\"número final de imágenes de Nodo: %d \" % len(iter))\n",
        "\n",
        "  #----------edited----------\n",
        "  cnt = 0 # contador frames  \n",
        "  i = 0  # frame index para guardar frames escogidos\n",
        "\n",
        "\n",
        "  # extract and save the video frames\n",
        "  while cap.isOpened():\n",
        "      ret, frame = cap.read()\n",
        "      #print(cnt)\n",
        "      if ret:\n",
        "        #print(cnt, iter[0],cnt == iter[0])\n",
        "        if cnt ==iter[0]:\n",
        "          frame = cv2.rotate(frame, cv2.ROTATE_90_CLOCKWISE)\n",
        "          cv2.imwrite('/TFM/'+obj+'/'+ obj +\"_\"+str(i)+'.png', frame)\n",
        "          #print(\"frame %d\" % (i))\n",
        "          #print(iter, len(iter))\n",
        "          if len(iter)==1:\n",
        "            #print(\"me meto\",iter)\n",
        "            iter = []\n",
        "          else:\n",
        "            #print(\"me meto\", iter, iter[1:])\n",
        "            iter = iter[1:]\n",
        "          i += 1\n",
        "      else:\n",
        "        break\n",
        "      cnt += 1\n",
        "\n",
        "  cap.release()\n",
        "  #print(cnt)"
      ]
    },
    {
      "cell_type": "code",
      "source": [
        "\"\"\"\n",
        "  #----------\n",
        "  cnt = 0\n",
        "  # extract and save the video frames\n",
        "  while cap.isOpened():\n",
        "      ret, frame = cap.read()\n",
        "      if ret:\n",
        "        if cnt % new_fps ==0:\n",
        "          frame = cv2.rotate(frame, cv2.ROTATE_90_CLOCKWISE)\n",
        "          cv2.imwrite('/TFM/nodo8/'+ obj +\"_\"+str(i)+'.png', frame)\n",
        "          #print(\"frame %d\" % (i))\n",
        "          i += 1\n",
        "      else:\n",
        "        break\n",
        "      cnt += 1\n",
        "\n",
        "  cap.release()\"\"\""
      ],
      "metadata": {
        "id": "At-AIWDgLHac"
      },
      "execution_count": null,
      "outputs": []
    },
    {
      "cell_type": "code",
      "source": [
        "\n",
        "cap = cv2.VideoCapture(file)\n",
        "\n",
        "# conteo del número total de frames en el video\n",
        "total = cap.get(cv2.CAP_PROP_FRAME_COUNT)\n",
        "\n",
        "# conteo del número de frames por segundo en el vídeo\n",
        "fps = cap.get(cv2.CAP_PROP_FPS)\n",
        "\n",
        "msec = cap.get(cv2.CAP_PROP_POS_MSEC)\n",
        "\n",
        "# calculo el número de frames que debo tomar del número total de frames\n",
        "# divido el total de frames por los frames por segundo \n",
        "new_fps = int((fps*100)/total)\n",
        "\n",
        "# fijar un nuevo número de frames por segundo en el vídeo\n",
        "cap.set(cv2.CAP_PROP_FPS, new_fps)\n",
        "\n",
        "print(total)\n",
        "print(int(fps))\n",
        "print(new_fps)\n",
        "print(err)\n",
        "print(msec)"
      ],
      "metadata": {
        "id": "Vw9E3Woj5H9n"
      },
      "execution_count": null,
      "outputs": []
    },
    {
      "cell_type": "code",
      "source": [
        "file = '/gdrive/My Drive/TFM/videos/'\n",
        "format = '.MOV'\n",
        "\n",
        "# nombres de los objetos\n",
        "objects = [\"cup\", \"vase\"]\n",
        "\n",
        "# para cada vídeo de un objeto:\n",
        "for obj in objects:\n",
        "  print(file+obj+format)"
      ],
      "metadata": {
        "colab": {
          "base_uri": "https://localhost:8080/"
        },
        "id": "5SqFf4zJXtET",
        "outputId": "0a4b2a8b-0871-45ad-da7d-b0daec7e1d06"
      },
      "execution_count": null,
      "outputs": [
        {
          "output_type": "stream",
          "name": "stdout",
          "text": [
            "/gdrive/My Drive/TFM/videos/cup.MOV\n",
            "/gdrive/My Drive/TFM/videos/vase.MOV\n"
          ]
        }
      ]
    }
  ]
}