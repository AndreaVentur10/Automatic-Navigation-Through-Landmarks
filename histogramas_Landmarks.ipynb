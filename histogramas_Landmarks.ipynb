{
  "cells": [
    {
      "cell_type": "code",
      "execution_count": null,
      "metadata": {
        "colab": {
          "base_uri": "https://localhost:8080/",
          "height": 36
        },
        "id": "puOnFtCW22sj",
        "outputId": "b4c8b5a9-07cf-4af8-e39b-626b4aba5ddf"
      },
      "outputs": [
        {
          "output_type": "execute_result",
          "data": {
            "text/plain": [
              "'\\nLeer fotograma:\\n'"
            ],
            "application/vnd.google.colaboratory.intrinsic+json": {
              "type": "string"
            }
          },
          "metadata": {},
          "execution_count": 68
        }
      ],
      "source": [
        "\"\"\"\n",
        "Leer fotograma:\n",
        "\"\"\""
      ]
    },
    {
      "cell_type": "code",
      "execution_count": null,
      "metadata": {
        "id": "tWLz0p8HnwPm"
      },
      "outputs": [],
      "source": [
        "import numpy as np\n",
        "from sklearn.neighbors import NearestNeighbors\n",
        "import glob\n",
        "import cv2\n",
        "import os\n",
        "import random\n",
        "import imutils\n",
        "from matplotlib import pyplot as plt\n",
        "from sklearn.neighbors import KNeighborsClassifier          ## Algorithm KNN\n",
        "from sklearn.model_selection import LeaveOneOut\n",
        "from sklearn.model_selection import cross_val_score\n",
        "from sklearn.metrics import classification_report"
      ]
    },
    {
      "cell_type": "code",
      "execution_count": null,
      "metadata": {
        "colab": {
          "base_uri": "https://localhost:8080/"
        },
        "id": "OG37PCRhnx_u",
        "outputId": "3d4fce2e-870d-418b-8134-fc9ff84a6898"
      },
      "outputs": [
        {
          "output_type": "stream",
          "name": "stdout",
          "text": [
            "Mounted at /gdrive\n"
          ]
        }
      ],
      "source": [
        "from google.colab import drive\n",
        "drive.mount('/gdrive', force_remount=True)"
      ]
    },
    {
      "cell_type": "markdown",
      "metadata": {
        "id": "wRe_lh32khXE"
      },
      "source": [
        "## Sacar frames de vídeos de cada nodo"
      ]
    },
    {
      "cell_type": "code",
      "execution_count": null,
      "metadata": {
        "colab": {
          "base_uri": "https://localhost:8080/"
        },
        "id": "xcrcg-sJoCSl",
        "outputId": "45ae29f0-f7cf-4a5a-aaa8-713a9c4625ad"
      },
      "outputs": [
        {
          "output_type": "stream",
          "name": "stdout",
          "text": [
            "ok: nodo0\n",
            "ok: nodo1\n",
            "ok: nodo2\n",
            "ok: nodo3\n",
            "ok: nodo4\n",
            "ok: nodo5\n",
            "ok: nodo6\n",
            "ok: nodo7\n",
            "ok: nodo8\n"
          ]
        }
      ],
      "source": [
        "# ruta a directorio de imagenes\n",
        "path_DB= \"/gdrive/My Drive/TFM/\"\n",
        "\n",
        "# directorios para cada landmark\n",
        "nodes = [\"nodo0\", \"nodo1\", \"nodo2\", \"nodo3\", \"nodo4\", \"nodo5\", \"nodo6\", \"nodo7\", \"nodo8\"]\n",
        "\n",
        "# check if the path exist\n",
        "for node in nodes:\n",
        "  if glob.glob(path_DB+node+\"/\" ):# + \"*.jpg\"\n",
        "    print(\"ok: \"+ node)"
      ]
    },
    {
      "cell_type": "code",
      "execution_count": null,
      "metadata": {
        "id": "RwElI2tTa0vC"
      },
      "outputs": [],
      "source": [
        "\"\"\"im = cv2.imread(path_DB+ node+ \"/\"+ node+\"_0.png\")\n",
        "print(im.shape)\"\"\""
      ]
    },
    {
      "cell_type": "code",
      "source": [
        "import matplotlib.pyplot as plt\n",
        "\n",
        "node = \"nodo0\"\n",
        "list_images = os.listdir(path_DB + \"/%s/\" % node)\n",
        "imgp = path_DB + \"/\" + node  + \"/\" + list_images[100] #guardar dirección completa\n",
        "\n",
        "#for i in range(ntotal):\n",
        "#print(list_images[i])\n",
        "img = cv2.imread(imgp) #cargo imagen con dirección completa\n",
        "resized = cv2.resize(img, (360, 640), interpolation = cv2.INTER_AREA)\n",
        "\"\"\"b,g,r = cv2.split(resized)\n",
        "\n",
        "equ_b = cv2.equalizeHist(b)\n",
        "equ_g = cv2.equalizeHist(g)\n",
        "equ_r = cv2.equalizeHist(r)\n",
        "\n",
        "resized = cv2.merge((equ_b, equ_g, equ_r))\n",
        "print(resized.shape)\n",
        "histb = cv2.calcHist([resized],[0],None,[256],[0,256])\n",
        "histg = cv2.calcHist([resized],[1],None,[256],[0,256])\n",
        "histr = cv2.calcHist([resized],[2],None,[256],[0,256])\n",
        "\n",
        "\n",
        "all = [histb, histg, histr]\n",
        "print(len(all))\n",
        "c = ['b', 'g', 'r']\n",
        "print(equ_b.shape)\n",
        "\n",
        "plt.figure(figsize=(13, 13))\n",
        "for num,col in enumerate(c):\n",
        "  plt.plot(all[num], color = col)\n",
        "  #plt.xlim([0, 256])\"\"\"\n",
        "\n",
        "resized = cv2.resize(img, (360, 640), interpolation = cv2.INTER_AREA)              #resize to 32x32x3 dimensions   \n",
        "bn = cv2.cvtColor(resized, cv2.COLOR_BGR2GRAY)\n",
        "hist = cv2.calcHist([bn],[0], None, [256], [0,256])\n",
        "print(hist.flatten().shape)\n",
        "fig, (ax1, ax2) = plt.subplots(1, 2, figsize=(12,6))\n",
        "fig.suptitle('Histograma de imagen del Landmark 0 (escala de grises)')\n",
        "ax1.imshow(bn, cmap= \"gray\")\n",
        "ax1.axis(\"off\")\n",
        "ax2.plot(hist)\n",
        "plt.savefig('/gdrive/My Drive/TFM/histograma_BN.png')\n",
        "#plt.xlim([0, 256])"
      ],
      "metadata": {
        "colab": {
          "base_uri": "https://localhost:8080/",
          "height": 434
        },
        "id": "LDyOfWqHGLz1",
        "outputId": "df40f90d-67c5-4ae3-e488-a548bfb01af9"
      },
      "execution_count": null,
      "outputs": [
        {
          "output_type": "stream",
          "name": "stdout",
          "text": [
            "(256,)\n"
          ]
        },
        {
          "output_type": "display_data",
          "data": {
            "text/plain": [
              "<Figure size 864x432 with 2 Axes>"
            ],
            "image/png": "[encoded data removed]"
          },
          "metadata": {
            "needs_background": "light"
          }
        }
      ]
    },
    {
      "cell_type": "code",
      "execution_count": null,
      "metadata": {
        "colab": {
          "base_uri": "https://localhost:8080/"
        },
        "id": "2nKq0yOzoxlz",
        "outputId": "a1cf7d0d-bf6e-4f99-cab2-b3837fc09ae3"
      },
      "outputs": [
        {
          "output_type": "stream",
          "name": "stdout",
          "text": [
            "train,test and 2nd test sets of nodo0 done!\n",
            "train,test and 2nd test sets of nodo1 done!\n",
            "train,test and 2nd test sets of nodo2 done!\n",
            "train,test and 2nd test sets of nodo3 done!\n",
            "train,test and 2nd test sets of nodo4 done!\n",
            "train,test and 2nd test sets of nodo5 done!\n",
            "train,test and 2nd test sets of nodo6 done!\n",
            "train,test and 2nd test sets of nodo7 done!\n",
            "train,test and 2nd test sets of nodo8 done!\n"
          ]
        }
      ],
      "source": [
        "\n",
        "\n",
        "train_x = []    #train images\n",
        "train_y = []    #train labels\n",
        "test_x = []     #test images\n",
        "test_y = []     #test labels\n",
        "n = 0\n",
        "\n",
        "dim = (360, 640)  # anchox alto: dimension por defecto de frames\n",
        "#dim = (960, 540) #otra dimension para no perder datos ??\n",
        "\n",
        "# para cada conjunto de imagenes de landmarks:\n",
        "for node in nodes:\n",
        "\n",
        "  list_images = os.listdir(path_DB + \"/%s/\" % node)  # listar las imagenes del landmark\n",
        "  ntotal= len(list_images)\n",
        "  ntrain= int(ntotal*0.85) # 70 % para train y 15% para validation = 85% para entrenamiento knn\n",
        "  ntest = int(ntotal*0.15)\n",
        "\n",
        "  random.seed(2021)\n",
        "  random.shuffle(list_images)     # mezclar las imagenes del landmark\n",
        "  #list_images = list_images[:(ntrain+ntest)]  # tomar el 85% de las imagenes\n",
        "  for i in range(ntotal):\n",
        "    imgp = path_DB + \"/\" + node  + \"/\" + list_images[i] #guardar dirección completa\n",
        "\n",
        "    img = cv2.imread(imgp) #cargo imagen con dirección completa\n",
        "    resized = cv2.resize(img, dim, interpolation = cv2.INTER_AREA)              #resize to 32x32x3 dimensions   \n",
        "    \n",
        "    #HISTOGRAMAS BGR:\n",
        "    \"\"\"b,g,r = cv2.split(resized)\n",
        "\n",
        "    equ_b = cv2.equalizeHist(b)\n",
        "    equ_g = cv2.equalizeHist(g)\n",
        "    equ_r = cv2.equalizeHist(r)\n",
        "\n",
        "    resized = cv2.merge((equ_b, equ_g, equ_r))\n",
        "\n",
        "    histb = cv2.calcHist([resized],[0],None,[256],[0,256])\n",
        "    histg = cv2.calcHist([resized],[1],None,[256],[0,256])\n",
        "    histr = cv2.calcHist([resized],[2],None,[256],[0,256])\n",
        "    hist = np.concatenate((histb,histg, histr))\"\"\"\n",
        "\n",
        "    #HISTOGRAMAS BN:\n",
        "    bn = cv2.cvtColor(resized, cv2.COLOR_BGR2GRAY)\n",
        "    hist = cv2.calcHist([bn],[0], None, [256], [0,256])\n",
        "    \n",
        "    flattened = hist.flatten()\n",
        "    list_images[i] = flattened\n",
        "\n",
        "  for i in range(ntrain): #train\n",
        "    train_x.append(list_images[i])\n",
        "    train_y.append(n)\n",
        "  for i in range(ntrain, ntotal): #test\n",
        "    test_x.append(list_images[i])\n",
        "    test_y.append(n)\n",
        "    \n",
        "  print(\"train,test and 2nd test sets of \"+node + \" done!\")\n",
        "      \n",
        "  n += 1"
      ]
    },
    {
      "cell_type": "code",
      "source": [
        "import csv\n",
        "\n",
        "with open('/gdrive/My Drive/TFM/output.tsv', 'wt') as out_file:\n",
        "  tsv_writer = csv.writer(out_file, delimiter='\\t')\n",
        "  for item in train_x:\n",
        "    tsv_writer.writerow(item)\n",
        "\n",
        "with open('/gdrive/My Drive/TFM/output_label.tsv', 'wt') as out_file:\n",
        "  tsv_writer = csv.writer(out_file, delimiter='\\t')\n",
        "  tsv_writer.writerow(['landmark', \"num\"])\n",
        "  for item in train_y:\n",
        "    tsv_writer.writerow([item, item])"
      ],
      "metadata": {
        "id": "DG8YsIJwWkIT"
      },
      "execution_count": null,
      "outputs": []
    },
    {
      "cell_type": "code",
      "execution_count": null,
      "metadata": {
        "colab": {
          "base_uri": "https://localhost:8080/"
        },
        "id": "ATTwg0t1kX-Q",
        "outputId": "a40800d3-d2c3-4f56-8a7b-a153792b3c01"
      },
      "outputs": [
        {
          "output_type": "stream",
          "name": "stdout",
          "text": [
            "[1. 1. 1. 1. 1. 1. 1. 1. 1. 1.]\n",
            "1.0\n"
          ]
        },
        {
          "output_type": "execute_result",
          "data": {
            "text/plain": [
              "KNeighborsClassifier(n_neighbors=1)"
            ]
          },
          "metadata": {},
          "execution_count": 7
        }
      ],
      "source": [
        "neigh = KNeighborsClassifier(n_neighbors=1, )\n",
        "\n",
        "# cross_validation kfold con k = 10\n",
        "cv_scores = cross_val_score(neigh, train_x, train_y, cv=10, scoring='accuracy') \n",
        "media_cv_scores = np.mean(cv_scores)  \n",
        "print(cv_scores) \n",
        "print(media_cv_scores)    \n",
        "\n",
        "# leave-one-out\n",
        "\"\"\"cv=LeaveOneOut()\n",
        "cv_scores = cross_val_score(neigh, train_x, train_y, cv=cv, scoring='accuracy') \n",
        "media_cv_scores = np.mean(cv_scores)  \n",
        "print(cv_scores) \n",
        "print(media_cv_scores)    \n",
        "\"\"\" \n",
        "neigh.fit(train_x, train_y)"
      ]
    },
    {
      "cell_type": "code",
      "execution_count": null,
      "metadata": {
        "id": "T3hUnuaBpPCW",
        "colab": {
          "base_uri": "https://localhost:8080/"
        },
        "outputId": "5d1503ad-1627-4be3-e6b9-f97647420e30"
      },
      "outputs": [
        {
          "output_type": "stream",
          "name": "stdout",
          "text": [
            "              precision    recall  f1-score   support\n",
            "\n",
            "      nodo 0       1.00      1.00      1.00        18\n",
            "      nodo 1       1.00      1.00      1.00        18\n",
            "      nodo 2       1.00      1.00      1.00        18\n",
            "      nodo 3       1.00      1.00      1.00        18\n",
            "      nodo 4       1.00      1.00      1.00        18\n",
            "      nodo 5       1.00      1.00      1.00        18\n",
            "      nodo 6       1.00      1.00      1.00        18\n",
            "      nodo 7       1.00      1.00      1.00        18\n",
            "      nodo 8       1.00      1.00      1.00        18\n",
            "\n",
            "    accuracy                           1.00       162\n",
            "   macro avg       1.00      1.00      1.00       162\n",
            "weighted avg       1.00      1.00      1.00       162\n",
            "\n"
          ]
        }
      ],
      "source": [
        "nodo_names = ['nodo 0', 'nodo 1', 'nodo 2', 'nodo 3', 'nodo 4', 'nodo 5', 'nodo 6', 'nodo 7', 'nodo 8']\n",
        "\n",
        "prediction = neigh.predict(test_x)\n",
        "print(classification_report(test_y, prediction, target_names=nodo_names))\n"
      ]
    },
    {
      "cell_type": "code",
      "source": [
        "import numpy as np\n",
        "import cv2\n",
        "\n",
        "%cd /gdrive/My Drive/TFM/histogramas/\n",
        "cap = cv2.VideoCapture(\"hist_all.MOV\")\n",
        "\n",
        "# Define the codec and create VideoWriter object\n",
        "# out = cv2.VideoWriter('video_BN.avi', cv2.VideoWriter_fourcc('M','J','P','G'), 29.0, (1080,1920))\n",
        "out = cv2.VideoWriter(\"video_BN_nuevo.avi\", cv2.VideoWriter_fourcc(*'DIVX'), 29.0, ( 1920,1080))\n",
        "count = 0\n",
        "dim = (360, 640)  # ANCHO x ALTO dimension por defecto de frames\n",
        "\n",
        "while(cap.isOpened()):\n",
        "    ret, frame = cap.read()\n",
        "    #print(frame.shape)\n",
        "    if ret==True:\n",
        "      rot = cv2.rotate(frame, cv2.ROTATE_90_CLOCKWISE)\n",
        "      resized = cv2.resize(rot, dim, interpolation = cv2.INTER_AREA)              #resize to 32x32x3 dimensions \n",
        "\n",
        "      \"\"\"b,g,r = cv2.split(resized)\n",
        "\n",
        "      equ_b = cv2.equalizeHist(b)\n",
        "      equ_g = cv2.equalizeHist(g)\n",
        "      equ_r = cv2.equalizeHist(r)\n",
        "\n",
        "      resized = cv2.merge((equ_b, equ_g, equ_r))\n",
        "\n",
        "      histb = cv2.calcHist([resized],[0],None,[256],[0,256])\n",
        "      histg = cv2.calcHist([resized],[1],None,[256],[0,256])\n",
        "      histr = cv2.calcHist([resized],[2],None,[256],[0,256])\n",
        "      hist = np.concatenate((histb,histg, histr))\"\"\"\n",
        "\n",
        "      bn = cv2.cvtColor(resized, cv2.COLOR_BGR2GRAY)\n",
        "      hist = cv2.calcHist([bn],[0], None, [256], [0,256])\n",
        "      flattened = hist.flatten()\n",
        "\n",
        "      #prediction:\n",
        "      result = neigh.predict([flattened])\n",
        "      text = \"\"+ str(result[0])\n",
        "      (w,h,c) = frame.shape\n",
        "      #frame = cv2.resize(frame,(360,640))\n",
        "      frame = cv2.cvtColor(frame, cv2.COLOR_BGR2GRAY)\n",
        "      frame = cv2.putText(frame, text, (10, 200), cv2.FONT_HERSHEY_DUPLEX, 1.5, (0, 0, 255), 2)  \n",
        "\n",
        "\n",
        "      # write the flipped frame\n",
        "      out.write(frame)\n",
        "\n",
        "    else:\n",
        "        break\n",
        "\n",
        "# Release everything if job is finished\n",
        "cap.release()\n",
        "out.release()"
      ],
      "metadata": {
        "colab": {
          "base_uri": "https://localhost:8080/"
        },
        "id": "O2TibnjjXar9",
        "outputId": "b2ce54b2-2ee5-4641-abc8-42b4e9ba2785"
      },
      "execution_count": null,
      "outputs": [
        {
          "output_type": "stream",
          "name": "stdout",
          "text": [
            "/gdrive/My Drive/TFM/histogramas\n"
          ]
        }
      ]
    },
    {
      "cell_type": "code",
      "source": [
        "import numpy as np\n",
        "import cv2\n",
        "\n",
        "%cd /gdrive/My Drive/TFM/histogramas/\n",
        "cap = cv2.VideoCapture(\"hist_all.MOV\")\n",
        "fps = (cap.get(cv2.CAP_PROP_FPS))\n",
        "\n",
        "total = (cap.get(cv2.CAP_PROP_FRAME_COUNT))\n",
        "print(fps, total)\n",
        "\n",
        "secs = [(0, 174), (232, 348), (406, 551), (580,841), (1044, 1160), (1247, 1363), (1450, 1595), (1798, 2030), (2204, 2320), (1000000,1000000) ]\n",
        "secs_y = [0,1,2,5,3,4,6,7,8, 9]\n",
        "\n",
        "out = cv2.VideoWriter(\"ejemplo1.avi\", cv2.VideoWriter_fourcc(*'DIVX'), 29.0, (1080, 1920))\n",
        "count = 0\n",
        "dim = (360, 640)  # ANCHO x ALTO dimension por defecto de frames\n",
        "label = 0\n",
        "\n",
        "#tp =0\n",
        "#total_tp =[]\n",
        "(first, last) = secs[0]\n",
        "matriz = np.zeros((9,9))\n",
        "while(cap.isOpened()):\n",
        "    ret, frame = cap.read()\n",
        "    #print(frame.shape)\n",
        "    if ret==True:\n",
        "      if count>last:\n",
        "        secs = secs[1:]\n",
        "        (first, last) = secs[0]\n",
        "        secs_y = secs_y[1:]\n",
        "        label = secs_y[0]\n",
        "        #total_tp.append(tp)\n",
        "        #tp = 0\n",
        "\n",
        "      rot = cv2.rotate(frame, cv2.ROTATE_90_CLOCKWISE)\n",
        "   \n",
        "      if count>= first:\n",
        "        resized = cv2.resize(rot, dim, interpolation = cv2.INTER_AREA)              #resize to 32x32x3 dimensions \n",
        "\n",
        "        bn = cv2.cvtColor(resized, cv2.COLOR_BGR2GRAY)\n",
        "        hist = cv2.calcHist([bn],[0], None, [256], [0,256])\n",
        "        flattened = hist.flatten()\n",
        "        #prediction:\n",
        "        result = neigh.predict([flattened])\n",
        "        #if result[0] == label :\n",
        "        \n",
        "        matriz[label][result[0]]+= 1\n",
        "        \n",
        "        text = \"\"+ str(result[0]) + \" \"+ str(label)\n",
        "        frame = cv2.putText(rot, text, (10, 200), cv2.FONT_HERSHEY_DUPLEX, 1.5, (0, 0, 255), 2)\n",
        "\n",
        "\n",
        "      # write the flipped frame\n",
        "      out.write(frame)\n",
        "      count +=1\n",
        "\n",
        "    else:\n",
        "        break\n",
        "\n",
        "# Release everything if job is finished\n",
        "cap.release()\n",
        "out.release()"
      ],
      "metadata": {
        "colab": {
          "base_uri": "https://localhost:8080/"
        },
        "id": "EK9nQXKyEboB",
        "outputId": "4dbfaa59-a4da-496d-b079-930b10b14f2d"
      },
      "execution_count": null,
      "outputs": [
        {
          "output_type": "stream",
          "name": "stdout",
          "text": [
            "/gdrive/My Drive/TFM/histogramas\n",
            "29.974608286368984 2420.0\n"
          ]
        }
      ]
    },
    {
      "cell_type": "code",
      "source": [
        "print(matriz)\n",
        "print(np.sum(matriz))\n",
        "\n",
        "for row in matriz:\n",
        "  print(np.sum(row))\n",
        "secs = [(0, 174), (232, 348), (406, 551), (580,841), (1044, 1160), (1247, 1363), (1450, 1595), (1798, 2030), (2204, 2320), (1000000,1000000) ]\n",
        "for i,j in secs:\n",
        "  print(j-i+1)"
      ],
      "metadata": {
        "colab": {
          "base_uri": "https://localhost:8080/"
        },
        "id": "1CRlpUKzVE27",
        "outputId": "c3c6f048-85a7-4cc5-a657-e82583e6a199"
      },
      "execution_count": null,
      "outputs": [
        {
          "output_type": "stream",
          "name": "stdout",
          "text": [
            "[[167.   7.   1.   0.   0.   0.   0.   0.   0.]\n",
            " [  0.   0.  41.   0.  28.  12.  36.   0.   0.]\n",
            " [  6.   0.  94.   0.  27.   0.   0.  19.   0.]\n",
            " [  0.   0.   9.  72.   1.   0.   3.  32.   0.]\n",
            " [  0.   0.  50.   1.  38.   0.   1.  27.   0.]\n",
            " [  0.   0.   0.   0.   0. 131.  57.   0.  74.]\n",
            " [  0.   0.   0.   0.   0.   0. 114.  27.   5.]\n",
            " [  0.   8.  42.   0.   0.   0.   0. 183.   0.]\n",
            " [  0.   0.   0.   0.   0.   0.   0.  44.  73.]]\n",
            "1430.0\n",
            "175.0\n",
            "117.0\n",
            "146.0\n",
            "117.0\n",
            "117.0\n",
            "262.0\n",
            "146.0\n",
            "233.0\n",
            "117.0\n",
            "175\n",
            "117\n",
            "146\n",
            "262\n",
            "117\n",
            "117\n",
            "146\n",
            "233\n",
            "117\n",
            "1\n"
          ]
        }
      ]
    },
    {
      "cell_type": "code",
      "source": [
        "print(total_tp)"
      ],
      "metadata": {
        "colab": {
          "base_uri": "https://localhost:8080/"
        },
        "id": "lGAemTrDUDJY",
        "outputId": "9b3b40c8-5323-49b1-9f30-722b6cb5a7a6"
      },
      "execution_count": null,
      "outputs": [
        {
          "output_type": "stream",
          "name": "stdout",
          "text": [
            "[167, 0, 94, 0, 1, 0, 114, 183, 73]\n"
          ]
        }
      ]
    },
    {
      "cell_type": "markdown",
      "metadata": {
        "id": "hYk5eQkShvuF"
      },
      "source": [
        "- histogramas de imagen en BN o a color ? \n",
        "- dimensiones ? las mismas? o menos?"
      ]
    }
  ],
  "metadata": {
    "colab": {
      "provenance": [],
      "collapsed_sections": []
    },
    "kernelspec": {
      "display_name": "Python 3",
      "name": "python3"
    },
    "language_info": {
      "name": "python"
    }
  },
  "nbformat": 4,
  "nbformat_minor": 0
}